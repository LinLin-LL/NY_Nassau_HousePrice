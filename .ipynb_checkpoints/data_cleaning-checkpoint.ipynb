{
 "cells": [
  {
   "cell_type": "markdown",
   "metadata": {},
   "source": [
    "## Load packages and data"
   ]
  },
  {
   "cell_type": "code",
   "execution_count": 2,
   "metadata": {},
   "outputs": [],
   "source": [
    "import pandas as pd\n",
    "import numpy as np"
   ]
  },
  {
   "cell_type": "code",
   "execution_count": 3,
   "metadata": {},
   "outputs": [
    {
     "name": "stdout",
     "output_type": "stream",
     "text": [
      "The number of rows: 30845\n"
     ]
    }
   ],
   "source": [
    "data = pd.read_csv('nassauCountyUpdate.csv', low_memory=False)\n",
    "school = pd.read_csv('schoolDistrictDistribution.csv', header=None)\n",
    "print('The number of rows: '+str(len(data)))"
   ]
  },
  {
   "cell_type": "markdown",
   "metadata": {},
   "source": [
    "## Update the school district numbers"
   ]
  },
  {
   "cell_type": "code",
   "execution_count": 4,
   "metadata": {},
   "outputs": [],
   "source": [
    "data['school_dis'] = school\n",
    "data = data.drop('School District', axis=1)"
   ]
  },
  {
   "cell_type": "markdown",
   "metadata": {},
   "source": [
    "## Combine the columns with similar information"
   ]
  },
  {
   "cell_type": "code",
   "execution_count": 5,
   "metadata": {},
   "outputs": [],
   "source": [
    "data['fireplace'] = data['Fireplace'].combine_first(data['Fireplace Number'])"
   ]
  },
  {
   "cell_type": "code",
   "execution_count": 6,
   "metadata": {},
   "outputs": [],
   "source": [
    "data['garage'] = data['Garage'].combine_first(data['Garage Description'])"
   ]
  },
  {
   "cell_type": "code",
   "execution_count": 7,
   "metadata": {},
   "outputs": [],
   "source": [
    "data['stories'] = data['Stories'].combine_first(data['Levels or Stories'])"
   ]
  },
  {
   "cell_type": "code",
   "execution_count": 8,
   "metadata": {},
   "outputs": [],
   "source": [
    "data['heat'] = data['Heating'].combine_first(data['Heat']).combine_first(data['Heating Features'])"
   ]
  },
  {
   "cell_type": "code",
   "execution_count": 9,
   "metadata": {},
   "outputs": [],
   "source": [
    "data['cooling'] = data['Cooling'].combine_first(data['Cooling Features'])"
   ]
  },
  {
   "cell_type": "code",
   "execution_count": 10,
   "metadata": {},
   "outputs": [],
   "source": [
    "data['prop_type'] = data['Property type'].combine_first(data['Property Subtype'])"
   ]
  },
  {
   "cell_type": "code",
   "execution_count": 11,
   "metadata": {},
   "outputs": [],
   "source": [
    "data['rooms'] = data['Rooms'].combine_first(data['bedrooms'])"
   ]
  },
  {
   "cell_type": "code",
   "execution_count": 12,
   "metadata": {},
   "outputs": [],
   "source": [
    "data['lot_area'] = data['lot_area'].combine_first(data['lot_sizes']).combine_first(data['Lot Size Square Feet'])"
   ]
  },
  {
   "cell_type": "code",
   "execution_count": 13,
   "metadata": {},
   "outputs": [],
   "source": [
    "data = data.drop(['price history', 'newpPiceHistory', #inaccurate info\n",
    "                  'Fireplace', 'Fireplace Number',\n",
    "                  'Garage', 'Garage Description',\n",
    "                  'Stories', 'Levels or Stories',\n",
    "                  'Heating', 'Heat', 'Heating Features',\n",
    "                  'Cooling', 'Cooling Features',\n",
    "                  'Property type', 'Property Subtype',\n",
    "                  'Rooms', 'bedrooms',\n",
    "                  'lot_sizes', 'lot_sizes', 'Lot Size Square Feet'], axis=1)\n"
   ]
  },
  {
   "cell_type": "markdown",
   "metadata": {},
   "source": [
    "## Drop columns with # na values >5000"
   ]
  },
  {
   "cell_type": "code",
   "execution_count": 14,
   "metadata": {},
   "outputs": [
    {
     "data": {
      "text/plain": [
       "Index(['property_id', 'borough', 'latitude', 'longitude', 'house_number',\n",
       "       'street', 'zipcode', 'city', 'living_area', 'lot_area', 'document_id',\n",
       "       'document_amount', 'doc_date', 'key', 'Date updated', 'House size',\n",
       "       'Style', 'Units', 'year built', 'tax_2016', 'tax_2015', 'school_dis',\n",
       "       'fireplace', 'garage', 'stories', 'heat', 'cooling', 'prop_type',\n",
       "       'rooms'],\n",
       "      dtype='object')"
      ]
     },
     "execution_count": 14,
     "metadata": {},
     "output_type": "execute_result"
    }
   ],
   "source": [
    "df = data.dropna(thresh=5000, axis=1)\n",
    "\n",
    "df.columns"
   ]
  },
  {
   "cell_type": "markdown",
   "metadata": {},
   "source": [
    "## Drop duplicated rows"
   ]
  },
  {
   "cell_type": "code",
   "execution_count": 15,
   "metadata": {},
   "outputs": [
    {
     "name": "stderr",
     "output_type": "stream",
     "text": [
      "C:\\Users\\lllin\\anaconda3\\lib\\site-packages\\ipykernel_launcher.py:1: SettingWithCopyWarning: \n",
      "A value is trying to be set on a copy of a slice from a DataFrame\n",
      "\n",
      "See the caveats in the documentation: https://pandas.pydata.org/pandas-docs/stable/user_guide/indexing.html#returning-a-view-versus-a-copy\n",
      "  \"\"\"Entry point for launching an IPython kernel.\n"
     ]
    },
    {
     "data": {
      "text/plain": [
       "30758"
      ]
     },
     "execution_count": 15,
     "metadata": {},
     "output_type": "execute_result"
    }
   ],
   "source": [
    "df.drop_duplicates(inplace=True)\n",
    "len(df)"
   ]
  },
  {
   "cell_type": "markdown",
   "metadata": {},
   "source": [
    "## Drop irrelevant columns"
   ]
  },
  {
   "cell_type": "code",
   "execution_count": 16,
   "metadata": {},
   "outputs": [
    {
     "data": {
      "text/plain": [
       "Index(['latitude', 'longitude', 'zipcode', 'city', 'living_area', 'lot_area',\n",
       "       'document_amount', 'doc_date', 'House size', 'Style', 'year built',\n",
       "       'tax_2016', 'tax_2015', 'school_dis', 'fireplace', 'garage', 'stories',\n",
       "       'heat', 'cooling', 'prop_type', 'rooms'],\n",
       "      dtype='object')"
      ]
     },
     "execution_count": 16,
     "metadata": {},
     "output_type": "execute_result"
    }
   ],
   "source": [
    "df = df.drop(['property_id', 'document_id', 'borough', 'house_number',\n",
    "       'street', 'key', 'Units', 'Date updated'], axis =1)\n",
    "df.columns"
   ]
  },
  {
   "cell_type": "markdown",
   "metadata": {},
   "source": [
    "## Transform document date type"
   ]
  },
  {
   "cell_type": "code",
   "execution_count": 17,
   "metadata": {},
   "outputs": [
    {
     "data": {
      "text/plain": [
       "<class 'str'>    30758\n",
       "Name: doc_date, dtype: int64"
      ]
     },
     "execution_count": 17,
     "metadata": {},
     "output_type": "execute_result"
    }
   ],
   "source": [
    "df['doc_date'].apply(type).value_counts()"
   ]
  },
  {
   "cell_type": "code",
   "execution_count": 18,
   "metadata": {},
   "outputs": [],
   "source": [
    "df['doc_date'] = pd.to_datetime(df['doc_date'])"
   ]
  },
  {
   "cell_type": "code",
   "execution_count": 19,
   "metadata": {},
   "outputs": [
    {
     "data": {
      "text/plain": [
       "<class 'pandas._libs.tslibs.timestamps.Timestamp'>    30758\n",
       "Name: doc_date, dtype: int64"
      ]
     },
     "execution_count": 19,
     "metadata": {},
     "output_type": "execute_result"
    }
   ],
   "source": [
    "df['doc_date'].apply(type).value_counts()"
   ]
  },
  {
   "cell_type": "markdown",
   "metadata": {},
   "source": [
    "## Missing values"
   ]
  },
  {
   "cell_type": "code",
   "execution_count": 20,
   "metadata": {},
   "outputs": [
    {
     "data": {
      "text/plain": [
       "fireplace          18614\n",
       "garage              5619\n",
       "Style               1306\n",
       "stories             1276\n",
       "year built          1223\n",
       "House size           964\n",
       "cooling              947\n",
       "prop_type            945\n",
       "living_area          497\n",
       "tax_2015             216\n",
       "tax_2016             190\n",
       "heat                 151\n",
       "lot_area              28\n",
       "longitude              0\n",
       "zipcode                0\n",
       "city                   0\n",
       "rooms                  0\n",
       "document_amount        0\n",
       "doc_date               0\n",
       "school_dis             0\n",
       "latitude               0\n",
       "dtype: int64"
      ]
     },
     "execution_count": 20,
     "metadata": {},
     "output_type": "execute_result"
    }
   ],
   "source": [
    "df.isnull().sum().sort_values(ascending=False)"
   ]
  },
  {
   "cell_type": "markdown",
   "metadata": {},
   "source": [
    "### combine living area & house size"
   ]
  },
  {
   "cell_type": "code",
   "execution_count": 21,
   "metadata": {},
   "outputs": [
    {
     "data": {
      "text/plain": [
       "<class 'str'>      29794\n",
       "<class 'float'>      964\n",
       "Name: House size, dtype: int64"
      ]
     },
     "execution_count": 21,
     "metadata": {},
     "output_type": "execute_result"
    }
   ],
   "source": [
    "# https://pbpython.com/currency-cleanup.html\n",
    "\n",
    "df['House size'].apply(type).value_counts()"
   ]
  },
  {
   "cell_type": "code",
   "execution_count": 22,
   "metadata": {},
   "outputs": [
    {
     "data": {
      "text/plain": [
       "<class 'float'>    30758\n",
       "Name: living_area, dtype: int64"
      ]
     },
     "execution_count": 22,
     "metadata": {},
     "output_type": "execute_result"
    }
   ],
   "source": [
    "df['living_area'].apply(type).value_counts()"
   ]
  },
  {
   "cell_type": "code",
   "execution_count": 23,
   "metadata": {},
   "outputs": [],
   "source": [
    "df['House size'] = pd.to_numeric(df['House size'].apply(lambda x: x.replace(' sq ft', '').replace('sq ft', '').replace(',', '') \n",
    "                                          if isinstance(x, str) else x))"
   ]
  },
  {
   "cell_type": "code",
   "execution_count": 24,
   "metadata": {},
   "outputs": [
    {
     "data": {
      "text/plain": [
       "<class 'float'>    30758\n",
       "Name: House size, dtype: int64"
      ]
     },
     "execution_count": 24,
     "metadata": {},
     "output_type": "execute_result"
    }
   ],
   "source": [
    "df['House size'].apply(type).value_counts()"
   ]
  },
  {
   "cell_type": "code",
   "execution_count": 25,
   "metadata": {},
   "outputs": [
    {
     "data": {
      "text/plain": [
       "1265"
      ]
     },
     "execution_count": 25,
     "metadata": {},
     "output_type": "execute_result"
    }
   ],
   "source": [
    "df['House size'].isnull().sum()"
   ]
  },
  {
   "cell_type": "code",
   "execution_count": 26,
   "metadata": {},
   "outputs": [
    {
     "data": {
      "text/html": [
       "<div>\n",
       "<style scoped>\n",
       "    .dataframe tbody tr th:only-of-type {\n",
       "        vertical-align: middle;\n",
       "    }\n",
       "\n",
       "    .dataframe tbody tr th {\n",
       "        vertical-align: top;\n",
       "    }\n",
       "\n",
       "    .dataframe thead th {\n",
       "        text-align: right;\n",
       "    }\n",
       "</style>\n",
       "<table border=\"1\" class=\"dataframe\">\n",
       "  <thead>\n",
       "    <tr style=\"text-align: right;\">\n",
       "      <th></th>\n",
       "      <th>living_area</th>\n",
       "      <th>House size</th>\n",
       "    </tr>\n",
       "  </thead>\n",
       "  <tbody>\n",
       "    <tr>\n",
       "      <th>0</th>\n",
       "      <td>1025.0</td>\n",
       "      <td>NaN</td>\n",
       "    </tr>\n",
       "    <tr>\n",
       "      <th>2</th>\n",
       "      <td>3050.0</td>\n",
       "      <td>NaN</td>\n",
       "    </tr>\n",
       "    <tr>\n",
       "      <th>3</th>\n",
       "      <td>1265.0</td>\n",
       "      <td>NaN</td>\n",
       "    </tr>\n",
       "    <tr>\n",
       "      <th>4</th>\n",
       "      <td>1464.0</td>\n",
       "      <td>NaN</td>\n",
       "    </tr>\n",
       "    <tr>\n",
       "      <th>5</th>\n",
       "      <td>1907.0</td>\n",
       "      <td>NaN</td>\n",
       "    </tr>\n",
       "    <tr>\n",
       "      <th>...</th>\n",
       "      <td>...</td>\n",
       "      <td>...</td>\n",
       "    </tr>\n",
       "    <tr>\n",
       "      <th>30580</th>\n",
       "      <td>1019.0</td>\n",
       "      <td>NaN</td>\n",
       "    </tr>\n",
       "    <tr>\n",
       "      <th>30658</th>\n",
       "      <td>1592.0</td>\n",
       "      <td>NaN</td>\n",
       "    </tr>\n",
       "    <tr>\n",
       "      <th>30671</th>\n",
       "      <td>1993.0</td>\n",
       "      <td>NaN</td>\n",
       "    </tr>\n",
       "    <tr>\n",
       "      <th>30710</th>\n",
       "      <td>1436.0</td>\n",
       "      <td>NaN</td>\n",
       "    </tr>\n",
       "    <tr>\n",
       "      <th>30799</th>\n",
       "      <td>1190.0</td>\n",
       "      <td>NaN</td>\n",
       "    </tr>\n",
       "  </tbody>\n",
       "</table>\n",
       "<p>1265 rows × 2 columns</p>\n",
       "</div>"
      ],
      "text/plain": [
       "       living_area  House size\n",
       "0           1025.0         NaN\n",
       "2           3050.0         NaN\n",
       "3           1265.0         NaN\n",
       "4           1464.0         NaN\n",
       "5           1907.0         NaN\n",
       "...            ...         ...\n",
       "30580       1019.0         NaN\n",
       "30658       1592.0         NaN\n",
       "30671       1993.0         NaN\n",
       "30710       1436.0         NaN\n",
       "30799       1190.0         NaN\n",
       "\n",
       "[1265 rows x 2 columns]"
      ]
     },
     "execution_count": 26,
     "metadata": {},
     "output_type": "execute_result"
    }
   ],
   "source": [
    "df.loc[df['House size'].isnull(), ['living_area','House size']]"
   ]
  },
  {
   "cell_type": "code",
   "execution_count": 27,
   "metadata": {},
   "outputs": [],
   "source": [
    "df['House size'].fillna(df['living_area'], inplace = True)"
   ]
  },
  {
   "cell_type": "code",
   "execution_count": 28,
   "metadata": {},
   "outputs": [
    {
     "data": {
      "text/plain": [
       "142"
      ]
     },
     "execution_count": 28,
     "metadata": {},
     "output_type": "execute_result"
    }
   ],
   "source": [
    "df['House size'].isnull().sum()"
   ]
  },
  {
   "cell_type": "code",
   "execution_count": 29,
   "metadata": {},
   "outputs": [],
   "source": [
    "df = df.drop('living_area', axis =1)"
   ]
  },
  {
   "cell_type": "markdown",
   "metadata": {},
   "source": [
    "### Amenities"
   ]
  },
  {
   "cell_type": "markdown",
   "metadata": {},
   "source": [
    "#### cooling"
   ]
  },
  {
   "cell_type": "code",
   "execution_count": 30,
   "metadata": {},
   "outputs": [
    {
     "data": {
      "text/plain": [
       "<class 'str'>      29811\n",
       "<class 'float'>      947\n",
       "Name: cooling, dtype: int64"
      ]
     },
     "execution_count": 30,
     "metadata": {},
     "output_type": "execute_result"
    }
   ],
   "source": [
    "df['cooling'].apply(type).value_counts()"
   ]
  },
  {
   "cell_type": "code",
   "execution_count": 31,
   "metadata": {},
   "outputs": [],
   "source": [
    "df['cooling'] = df['cooling'].apply(lambda x: 'Unknown' if type(x) == float else x)"
   ]
  },
  {
   "cell_type": "code",
   "execution_count": 32,
   "metadata": {},
   "outputs": [],
   "source": [
    "df['cooling'] = df['cooling'].apply(lambda x: 0 if x == 'Unknown' else 1)"
   ]
  },
  {
   "cell_type": "code",
   "execution_count": 33,
   "metadata": {},
   "outputs": [
    {
     "data": {
      "text/plain": [
       "1    29468\n",
       "0     1290\n",
       "Name: cooling, dtype: int64"
      ]
     },
     "execution_count": 33,
     "metadata": {},
     "output_type": "execute_result"
    }
   ],
   "source": [
    "# 1 - has cooling; 0 - unknown\n",
    "df['cooling'].value_counts()"
   ]
  },
  {
   "cell_type": "markdown",
   "metadata": {},
   "source": [
    "#### fireplace"
   ]
  },
  {
   "cell_type": "code",
   "execution_count": 34,
   "metadata": {},
   "outputs": [
    {
     "data": {
      "text/plain": [
       "<class 'float'>    18982\n",
       "<class 'str'>      11776\n",
       "Name: fireplace, dtype: int64"
      ]
     },
     "execution_count": 34,
     "metadata": {},
     "output_type": "execute_result"
    }
   ],
   "source": [
    "df['fireplace'].apply(type).value_counts()"
   ]
  },
  {
   "cell_type": "code",
   "execution_count": 35,
   "metadata": {},
   "outputs": [],
   "source": [
    "df['fireplace'] = df['fireplace'].apply(lambda x: 1 if isinstance(x, str) else x)"
   ]
  },
  {
   "cell_type": "code",
   "execution_count": 36,
   "metadata": {},
   "outputs": [],
   "source": [
    "df['fireplace'] = df['fireplace'].apply(lambda x: 1 if x > 0 else 0)"
   ]
  },
  {
   "cell_type": "code",
   "execution_count": 37,
   "metadata": {},
   "outputs": [
    {
     "data": {
      "text/plain": [
       "0    18614\n",
       "1    12144\n",
       "Name: fireplace, dtype: int64"
      ]
     },
     "execution_count": 37,
     "metadata": {},
     "output_type": "execute_result"
    }
   ],
   "source": [
    "# 1 - has fireplac; 0 - unknown\n",
    "df['fireplace'].value_counts()"
   ]
  },
  {
   "cell_type": "markdown",
   "metadata": {},
   "source": [
    "#### heating"
   ]
  },
  {
   "cell_type": "code",
   "execution_count": 38,
   "metadata": {},
   "outputs": [
    {
     "data": {
      "text/plain": [
       "Central       29378\n",
       "Gas             539\n",
       "Unknown         348\n",
       "Oil             279\n",
       "Not Inc          36\n",
       "Forced Air       19\n",
       "Elec              3\n",
       "None              2\n",
       "Inc               2\n",
       "Radiator          1\n",
       "Name: heat, dtype: int64"
      ]
     },
     "execution_count": 38,
     "metadata": {},
     "output_type": "execute_result"
    }
   ],
   "source": [
    "df['heat'].value_counts()"
   ]
  },
  {
   "cell_type": "code",
   "execution_count": 39,
   "metadata": {},
   "outputs": [
    {
     "data": {
      "text/plain": [
       "<class 'str'>      30607\n",
       "<class 'float'>      151\n",
       "Name: heat, dtype: int64"
      ]
     },
     "execution_count": 39,
     "metadata": {},
     "output_type": "execute_result"
    }
   ],
   "source": [
    "df['heat'].apply(type).value_counts()"
   ]
  },
  {
   "cell_type": "code",
   "execution_count": 40,
   "metadata": {},
   "outputs": [],
   "source": [
    "df['heat'] = df['heat'].apply(lambda x: 0 if isinstance(x, float) else x)"
   ]
  },
  {
   "cell_type": "code",
   "execution_count": 41,
   "metadata": {},
   "outputs": [],
   "source": [
    "df['heat'] = df['heat'].apply(lambda x: 0 if x == 'Unknown' else x)"
   ]
  },
  {
   "cell_type": "code",
   "execution_count": 42,
   "metadata": {},
   "outputs": [],
   "source": [
    "df['heat'] = df['heat'].apply(lambda x: -1 if x == 'Not Inc' or x == 'None' else (x if x == 0 else 1))"
   ]
  },
  {
   "cell_type": "code",
   "execution_count": 43,
   "metadata": {},
   "outputs": [
    {
     "data": {
      "text/plain": [
       " 1    30221\n",
       " 0      499\n",
       "-1       38\n",
       "Name: heat, dtype: int64"
      ]
     },
     "execution_count": 43,
     "metadata": {},
     "output_type": "execute_result"
    }
   ],
   "source": [
    "# 1 - has heat; 0 - unknown; -1 - not have heat\n",
    "df['heat'].value_counts()"
   ]
  },
  {
   "cell_type": "markdown",
   "metadata": {},
   "source": [
    "#### garage"
   ]
  },
  {
   "cell_type": "code",
   "execution_count": 44,
   "metadata": {},
   "outputs": [
    {
     "data": {
      "text/plain": [
       "Garage             20284\n",
       "Basement Garage     4269\n",
       "Attached             331\n",
       "Detached             215\n",
       "Driveway               7\n",
       "N                      4\n",
       "Con                    4\n",
       "Street                 3\n",
       "Non                    3\n",
       "Yes, Built-in          3\n",
       "A                      2\n",
       "Ind                    2\n",
       "Private                1\n",
       "2                      1\n",
       "Gar, Drwy              1\n",
       "Yes                    1\n",
       "Y                      1\n",
       "Private St             1\n",
       "Bsm                    1\n",
       "2 Car Grg!             1\n",
       "Carport                1\n",
       "At                     1\n",
       "Tdm                    1\n",
       "Pvt                    1\n",
       "Name: garage, dtype: int64"
      ]
     },
     "execution_count": 44,
     "metadata": {},
     "output_type": "execute_result"
    }
   ],
   "source": [
    "df['garage'].value_counts()"
   ]
  },
  {
   "cell_type": "code",
   "execution_count": 45,
   "metadata": {},
   "outputs": [
    {
     "data": {
      "text/plain": [
       "<class 'str'>      25139\n",
       "<class 'float'>     5619\n",
       "Name: garage, dtype: int64"
      ]
     },
     "execution_count": 45,
     "metadata": {},
     "output_type": "execute_result"
    }
   ],
   "source": [
    "df['garage'].apply(type).value_counts()"
   ]
  },
  {
   "cell_type": "code",
   "execution_count": 46,
   "metadata": {},
   "outputs": [],
   "source": [
    "df['garage'] = df['garage'].apply(lambda x: 0 if isinstance(x, float) else x)"
   ]
  },
  {
   "cell_type": "code",
   "execution_count": 47,
   "metadata": {},
   "outputs": [],
   "source": [
    "df['garage'] = df['garage'].apply(lambda x: -1 if x == 'N' or x == 'Non' else (x if x == 0 else 1))\n",
    "\n",
    "## 1 - has; 0 - unknown; -1 - not have"
   ]
  },
  {
   "cell_type": "markdown",
   "metadata": {},
   "source": [
    "### Stories"
   ]
  },
  {
   "cell_type": "code",
   "execution_count": 48,
   "metadata": {},
   "outputs": [
    {
     "data": {
      "text/plain": [
       "2.0    15117\n",
       "1.0    14336\n",
       "3.0       28\n",
       "4.0        1\n",
       "Name: stories, dtype: int64"
      ]
     },
     "execution_count": 48,
     "metadata": {},
     "output_type": "execute_result"
    }
   ],
   "source": [
    "df['stories'].value_counts()"
   ]
  },
  {
   "cell_type": "code",
   "execution_count": 49,
   "metadata": {},
   "outputs": [
    {
     "data": {
      "text/plain": [
       "<class 'float'>    30758\n",
       "Name: stories, dtype: int64"
      ]
     },
     "execution_count": 49,
     "metadata": {},
     "output_type": "execute_result"
    }
   ],
   "source": [
    "df['stories'].apply(type).value_counts()"
   ]
  },
  {
   "cell_type": "code",
   "execution_count": 50,
   "metadata": {},
   "outputs": [],
   "source": [
    "df['stories'] = df['stories'].apply(lambda x: 0 if pd.isna(x) else x)\n",
    "# 0 - unknown; else - # of stories"
   ]
  },
  {
   "cell_type": "markdown",
   "metadata": {},
   "source": [
    "###  Style"
   ]
  },
  {
   "cell_type": "code",
   "execution_count": 51,
   "metadata": {},
   "outputs": [
    {
     "data": {
      "text/plain": [
       "Cape Cod           8800\n",
       "Colonial           5868\n",
       "Ranch              5229\n",
       "Old Style          3641\n",
       "Split Level        3577\n",
       "Bungalow           1279\n",
       "Other               318\n",
       "A-Frame             225\n",
       "Triplex             198\n",
       "Contemporary        151\n",
       "Tudor                71\n",
       "Townhouse            59\n",
       "Mansion              14\n",
       "Victorian            10\n",
       "Condo/Apartment       8\n",
       "Land                  4\n",
       "Name: Style, dtype: int64"
      ]
     },
     "execution_count": 51,
     "metadata": {},
     "output_type": "execute_result"
    }
   ],
   "source": [
    "df['Style'].value_counts()"
   ]
  },
  {
   "cell_type": "code",
   "execution_count": 52,
   "metadata": {},
   "outputs": [
    {
     "data": {
      "text/plain": [
       "<class 'str'>      29452\n",
       "<class 'float'>     1306\n",
       "Name: Style, dtype: int64"
      ]
     },
     "execution_count": 52,
     "metadata": {},
     "output_type": "execute_result"
    }
   ],
   "source": [
    "df['Style'].apply(type).value_counts()"
   ]
  },
  {
   "cell_type": "code",
   "execution_count": 53,
   "metadata": {},
   "outputs": [],
   "source": [
    "df['Style'] = df['Style'].apply(lambda x: 'Unknown' if isinstance(x, float) else x)"
   ]
  },
  {
   "cell_type": "markdown",
   "metadata": {},
   "source": [
    "### Year built"
   ]
  },
  {
   "cell_type": "code",
   "execution_count": 54,
   "metadata": {},
   "outputs": [
    {
     "data": {
      "text/plain": [
       "<class 'float'>    30758\n",
       "Name: year built, dtype: int64"
      ]
     },
     "execution_count": 54,
     "metadata": {},
     "output_type": "execute_result"
    }
   ],
   "source": [
    "df['year built'].apply(type).value_counts()"
   ]
  },
  {
   "cell_type": "code",
   "execution_count": 55,
   "metadata": {},
   "outputs": [
    {
     "data": {
      "text/plain": [
       "1951.0    1869\n",
       "1950.0    1691\n",
       "1948.0    1661\n",
       "1954.0    1653\n",
       "1953.0    1218\n",
       "          ... \n",
       "1860.0       1\n",
       "1849.0       1\n",
       "1842.0       1\n",
       "1873.0       1\n",
       "1800.0       1\n",
       "Name: year built, Length: 158, dtype: int64"
      ]
     },
     "execution_count": 55,
     "metadata": {},
     "output_type": "execute_result"
    }
   ],
   "source": [
    "df['year built'].value_counts()"
   ]
  },
  {
   "cell_type": "code",
   "execution_count": 56,
   "metadata": {},
   "outputs": [],
   "source": [
    "df['year built'] = df['year built'].apply(lambda x: 0 if pd.isna(x) else x)\n",
    "# 0 - unknown; else - year built"
   ]
  },
  {
   "cell_type": "markdown",
   "metadata": {},
   "source": [
    "### Property type"
   ]
  },
  {
   "cell_type": "code",
   "execution_count": 57,
   "metadata": {},
   "outputs": [
    {
     "data": {
      "text/plain": [
       "<class 'str'>      29813\n",
       "<class 'float'>      945\n",
       "Name: prop_type, dtype: int64"
      ]
     },
     "execution_count": 57,
     "metadata": {},
     "output_type": "execute_result"
    }
   ],
   "source": [
    "df['prop_type'].apply(type).value_counts()"
   ]
  },
  {
   "cell_type": "code",
   "execution_count": 58,
   "metadata": {},
   "outputs": [
    {
     "data": {
      "text/plain": [
       "Single family    27327\n",
       "Multi family      2008\n",
       "Land               443\n",
       "Condo               20\n",
       "condo               11\n",
       "townhouse            2\n",
       "co-op                1\n",
       "Residential          1\n",
       "Name: prop_type, dtype: int64"
      ]
     },
     "execution_count": 58,
     "metadata": {},
     "output_type": "execute_result"
    }
   ],
   "source": [
    "df['prop_type'].value_counts()"
   ]
  },
  {
   "cell_type": "code",
   "execution_count": 59,
   "metadata": {},
   "outputs": [],
   "source": [
    "df['prop_type'] = df['prop_type'].apply(lambda x: 'Unknown' if isinstance(x, float) else x)"
   ]
  },
  {
   "cell_type": "code",
   "execution_count": 60,
   "metadata": {},
   "outputs": [],
   "source": [
    "df['prop_type'] = df['prop_type'].apply(lambda x: 'Multi family' if x == 'Residential' else x)"
   ]
  },
  {
   "cell_type": "code",
   "execution_count": 61,
   "metadata": {},
   "outputs": [],
   "source": [
    "df['prop_type'] = df['prop_type'].apply(lambda x: 'Condo' if x == 'condo' else x)"
   ]
  },
  {
   "cell_type": "code",
   "execution_count": null,
   "metadata": {},
   "outputs": [],
   "source": []
  },
  {
   "cell_type": "code",
   "execution_count": 62,
   "metadata": {},
   "outputs": [
    {
     "data": {
      "text/plain": [
       "tax_2015           216\n",
       "tax_2016           190\n",
       "House size         142\n",
       "lot_area            28\n",
       "rooms                0\n",
       "Style                0\n",
       "longitude            0\n",
       "zipcode              0\n",
       "city                 0\n",
       "document_amount      0\n",
       "doc_date             0\n",
       "year built           0\n",
       "prop_type            0\n",
       "school_dis           0\n",
       "fireplace            0\n",
       "garage               0\n",
       "stories              0\n",
       "heat                 0\n",
       "cooling              0\n",
       "latitude             0\n",
       "dtype: int64"
      ]
     },
     "execution_count": 62,
     "metadata": {},
     "output_type": "execute_result"
    }
   ],
   "source": [
    "df.isnull().sum().sort_values(ascending=False)"
   ]
  },
  {
   "cell_type": "markdown",
   "metadata": {},
   "source": [
    "## Write cleaned data to csv"
   ]
  },
  {
   "cell_type": "code",
   "execution_count": 63,
   "metadata": {},
   "outputs": [],
   "source": [
    "df.to_csv('house_price_data_clean.csv', index=False)"
   ]
  },
  {
   "cell_type": "code",
   "execution_count": null,
   "metadata": {},
   "outputs": [],
   "source": []
  },
  {
   "cell_type": "code",
   "execution_count": null,
   "metadata": {},
   "outputs": [],
   "source": []
  }
 ],
 "metadata": {
  "kernelspec": {
   "display_name": "Python 3",
   "language": "python",
   "name": "python3"
  },
  "language_info": {
   "codemirror_mode": {
    "name": "ipython",
    "version": 3
   },
   "file_extension": ".py",
   "mimetype": "text/x-python",
   "name": "python",
   "nbconvert_exporter": "python",
   "pygments_lexer": "ipython3",
   "version": "3.7.6"
  }
 },
 "nbformat": 4,
 "nbformat_minor": 4
}
